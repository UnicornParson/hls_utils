{
 "cells": [
  {
   "cell_type": "code",
   "execution_count": 1,
   "id": "efb20357",
   "metadata": {},
   "outputs": [
    {
     "data": {
      "application/javascript": [
       "IPython.OutputArea.prototype._should_scroll = function(lines) {\n",
       "    return false;\n",
       "}\n"
      ],
      "text/plain": [
       "<IPython.core.display.Javascript object>"
      ]
     },
     "metadata": {},
     "output_type": "display_data"
    }
   ],
   "source": [
    "%%javascript\n",
    "IPython.OutputArea.prototype._should_scroll = function(lines) {\n",
    "    return false;\n",
    "}"
   ]
  },
  {
   "cell_type": "code",
   "execution_count": 7,
   "id": "40951285",
   "metadata": {},
   "outputs": [
    {
     "name": "stdout",
     "output_type": "stream",
     "text": [
      "Requirement already satisfied: pip in /usr/local/lib/python3.10/dist-packages (23.3.1)\n",
      "\u001b[33mDEPRECATION: distro-info 1.1build1 has a non-standard version number. pip 24.0 will enforce this behaviour change. A possible replacement is to upgrade to a newer version of distro-info or contact the author to suggest that they release a version with a conforming version number. Discussion can be found at https://github.com/pypa/pip/issues/12063\u001b[0m\u001b[33m\n",
      "\u001b[0m\u001b[33mWARNING: Running pip as the 'root' user can result in broken permissions and conflicting behaviour with the system package manager. It is recommended to use a virtual environment instead: https://pip.pypa.io/warnings/venv\u001b[0m\u001b[33m\n",
      "\u001b[0mRequirement already satisfied: m3u8>=0.3.0 in /usr/local/lib/python3.10/dist-packages (from -r ../requirements.txt (line 1)) (3.5.0)\n",
      "Requirement already satisfied: aiofiles in /usr/local/lib/python3.10/dist-packages (from -r ../requirements.txt (line 2)) (23.1.0)\n",
      "Requirement already satisfied: aiohttp in /usr/local/lib/python3.10/dist-packages (from -r ../requirements.txt (line 3)) (3.8.5)\n",
      "Requirement already satisfied: click in /usr/local/lib/python3.10/dist-packages (from -r ../requirements.txt (line 4)) (8.1.6)\n",
      "Requirement already satisfied: tqdm in /usr/local/lib/python3.10/dist-packages (from -r ../requirements.txt (line 5)) (4.64.0)\n",
      "Requirement already satisfied: iso8601 in /usr/local/lib/python3.10/dist-packages (from m3u8>=0.3.0->-r ../requirements.txt (line 1)) (2.0.0)\n",
      "Requirement already satisfied: attrs>=17.3.0 in /usr/local/lib/python3.10/dist-packages (from aiohttp->-r ../requirements.txt (line 3)) (22.1.0)\n",
      "Requirement already satisfied: charset-normalizer<4.0,>=2.0 in /usr/local/lib/python3.10/dist-packages (from aiohttp->-r ../requirements.txt (line 3)) (2.1.0)\n",
      "Requirement already satisfied: multidict<7.0,>=4.5 in /usr/local/lib/python3.10/dist-packages (from aiohttp->-r ../requirements.txt (line 3)) (6.0.4)\n",
      "Requirement already satisfied: async-timeout<5.0,>=4.0.0a3 in /usr/local/lib/python3.10/dist-packages (from aiohttp->-r ../requirements.txt (line 3)) (4.0.2)\n",
      "Requirement already satisfied: yarl<2.0,>=1.0 in /usr/local/lib/python3.10/dist-packages (from aiohttp->-r ../requirements.txt (line 3)) (1.9.2)\n",
      "Requirement already satisfied: frozenlist>=1.1.1 in /usr/local/lib/python3.10/dist-packages (from aiohttp->-r ../requirements.txt (line 3)) (1.4.0)\n",
      "Requirement already satisfied: aiosignal>=1.1.2 in /usr/local/lib/python3.10/dist-packages (from aiohttp->-r ../requirements.txt (line 3)) (1.3.1)\n",
      "Requirement already satisfied: idna>=2.0 in /usr/local/lib/python3.10/dist-packages (from yarl<2.0,>=1.0->aiohttp->-r ../requirements.txt (line 3)) (3.3)\n",
      "\u001b[33mDEPRECATION: distro-info 1.1build1 has a non-standard version number. pip 24.0 will enforce this behaviour change. A possible replacement is to upgrade to a newer version of distro-info or contact the author to suggest that they release a version with a conforming version number. Discussion can be found at https://github.com/pypa/pip/issues/12063\u001b[0m\u001b[33m\n",
      "\u001b[0m\u001b[33mWARNING: Running pip as the 'root' user can result in broken permissions and conflicting behaviour with the system package manager. It is recommended to use a virtual environment instead: https://pip.pypa.io/warnings/venv\u001b[0m\u001b[33m\n",
      "\u001b[0m"
     ]
    }
   ],
   "source": [
    "!python3.10 -m pip install --upgrade pip\n",
    "!python3.10 -m pip install -r ../requirements.txt"
   ]
  },
  {
   "cell_type": "code",
   "execution_count": 4,
   "id": "c45f5122",
   "metadata": {},
   "outputs": [
    {
     "name": "stdout",
     "output_type": "stream",
     "text": [
      "/usr/local/sbin:/usr/local/bin:/usr/sbin:/usr/bin:/sbin:/bin:/home/data/repo/hls_utils/lists/..\n"
     ]
    }
   ],
   "source": [
    "import os\n",
    "p = os.environ['PATH']\n",
    "here = os.getcwd() + \"/..\"\n",
    "os.environ['PATH'] = \"%s:%s\" % (p, here)\n",
    "print(os.environ['PATH'])"
   ]
  },
  {
   "cell_type": "code",
   "execution_count": 5,
   "id": "198b1dcb",
   "metadata": {},
   "outputs": [
    {
     "name": "stdout",
     "output_type": "stream",
     "text": [
      "Total:  14%|████▍                          | 7205/50817 [05:55<23:25, 31.04it/s]usage: hls [-h] [-o OUT] [-1] [-v] [--config CONFIG] [--flow] [--nofollow]\n",
      "           [--delay]\n",
      "           cmd url\n",
      "hls: error: unrecognized arguments: #EXTM3U name=bj-telecom-iptv x-tvg-url=http://epg.51zmt.top:8000/e.xml.gz\n",
      "Total:  14%|████▍                          | 7361/50817 [05:59<16:39, 43.50it/s]# empty out for http://60.255.149.208/tslive/c212_scc_20190618_vrqwjwec_original_r10/c212_scc_20190618_vrqwjwec_original_r10.m3u8\n",
      "Total:  17%|█████▏                         | 8578/50817 [07:01<15:20, 45.89it/s]usage: hls [-h] [-o OUT] [-1] [-v] [--config CONFIG] [--flow] [--nofollow]\n",
      "           [--delay]\n",
      "           cmd url\n",
      "hls: error: unrecognized arguments: ,CCTV-1\n",
      "Total:  17%|█████▎                         | 8742/50817 [07:10<13:51, 50.58it/s]# empty out for http://live.g3proxy.lecloud.com/gslb?stream_id=lb_lwj_1300&tag=live&ext=m3u8&sign=live_tv&platid=10&splatid=1009&format=letv&expect=1\n",
      "Total:  41%|████████████▎                 | 20827/50817 [16:08<09:32, 52.36it/s]usage: hls [-h] [-o OUT] [-1] [-v] [--config CONFIG] [--flow] [--nofollow]\n",
      "           [--delay]\n",
      "           cmd url\n",
      "hls: error: unrecognized arguments: #EXTM3U\n",
      "Total:  41%|████████████▍                 | 21019/50817 [16:37<09:08, 54.37it/s]# empty out for http://0.0.0.0:0000/udp/239.93.42.60:5140\n",
      "Total: 100%|██████████████████████████████| 50817/50817 [39:21<00:00, 21.52it/s]\n"
     ]
    }
   ],
   "source": [
    "!python3.10 ../hls_batch.py scan  --format pretty --target available.txt --filter available -j 128 --nofollow index.txt"
   ]
  },
  {
   "cell_type": "code",
   "execution_count": 8,
   "id": "17a05aa2",
   "metadata": {},
   "outputs": [],
   "source": [
    "!rm -vf hls_batch.*.log\n",
    "!rm -vf hls.*.log"
   ]
  },
  {
   "cell_type": "code",
   "execution_count": null,
   "id": "6a580a93",
   "metadata": {},
   "outputs": [],
   "source": []
  }
 ],
 "metadata": {
  "kernelspec": {
   "display_name": "Python 3 (ipykernel)",
   "language": "python",
   "name": "python3"
  },
  "language_info": {
   "codemirror_mode": {
    "name": "ipython",
    "version": 3
   },
   "file_extension": ".py",
   "mimetype": "text/x-python",
   "name": "python",
   "nbconvert_exporter": "python",
   "pygments_lexer": "ipython3",
   "version": "3.10.6"
  }
 },
 "nbformat": 4,
 "nbformat_minor": 5
}
