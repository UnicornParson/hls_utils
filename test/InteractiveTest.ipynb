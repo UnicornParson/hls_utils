{
 "cells": [
  {
   "cell_type": "code",
   "execution_count": 91,
   "id": "26096e09",
   "metadata": {},
   "outputs": [
    {
     "name": "stdout",
     "output_type": "stream",
     "text": [
      "Requirement already satisfied: pip in /usr/local/lib/python3.10/dist-packages (23.2.1)\n",
      "\u001b[33mDEPRECATION: distro-info 1.1build1 has a non-standard version number. pip 23.3 will enforce this behaviour change. A possible replacement is to upgrade to a newer version of distro-info or contact the author to suggest that they release a version with a conforming version number. Discussion can be found at https://github.com/pypa/pip/issues/12063\u001b[0m\u001b[33m\n",
      "\u001b[0m\u001b[33mWARNING: Running pip as the 'root' user can result in broken permissions and conflicting behaviour with the system package manager. It is recommended to use a virtual environment instead: https://pip.pypa.io/warnings/venv\u001b[0m\u001b[33m\n",
      "\u001b[0mRequirement already satisfied: m3u8>=0.3.0 in /usr/local/lib/python3.10/dist-packages (from -r ../requirements.txt (line 1)) (3.5.0)\n",
      "Requirement already satisfied: aiofiles in /usr/local/lib/python3.10/dist-packages (from -r ../requirements.txt (line 2)) (23.1.0)\n",
      "Requirement already satisfied: aiohttp in /usr/local/lib/python3.10/dist-packages (from -r ../requirements.txt (line 3)) (3.8.5)\n",
      "Requirement already satisfied: click in /usr/local/lib/python3.10/dist-packages (from -r ../requirements.txt (line 4)) (8.1.6)\n",
      "Requirement already satisfied: tqdm in /usr/local/lib/python3.10/dist-packages (from -r ../requirements.txt (line 5)) (4.64.0)\n",
      "Requirement already satisfied: iso8601 in /usr/local/lib/python3.10/dist-packages (from m3u8>=0.3.0->-r ../requirements.txt (line 1)) (2.0.0)\n",
      "Requirement already satisfied: attrs>=17.3.0 in /usr/local/lib/python3.10/dist-packages (from aiohttp->-r ../requirements.txt (line 3)) (22.1.0)\n",
      "Requirement already satisfied: charset-normalizer<4.0,>=2.0 in /usr/local/lib/python3.10/dist-packages (from aiohttp->-r ../requirements.txt (line 3)) (2.1.0)\n",
      "Requirement already satisfied: multidict<7.0,>=4.5 in /usr/local/lib/python3.10/dist-packages (from aiohttp->-r ../requirements.txt (line 3)) (6.0.4)\n",
      "Requirement already satisfied: async-timeout<5.0,>=4.0.0a3 in /usr/local/lib/python3.10/dist-packages (from aiohttp->-r ../requirements.txt (line 3)) (4.0.2)\n",
      "Requirement already satisfied: yarl<2.0,>=1.0 in /usr/local/lib/python3.10/dist-packages (from aiohttp->-r ../requirements.txt (line 3)) (1.9.2)\n",
      "Requirement already satisfied: frozenlist>=1.1.1 in /usr/local/lib/python3.10/dist-packages (from aiohttp->-r ../requirements.txt (line 3)) (1.4.0)\n",
      "Requirement already satisfied: aiosignal>=1.1.2 in /usr/local/lib/python3.10/dist-packages (from aiohttp->-r ../requirements.txt (line 3)) (1.3.1)\n",
      "Requirement already satisfied: idna>=2.0 in /usr/local/lib/python3.10/dist-packages (from yarl<2.0,>=1.0->aiohttp->-r ../requirements.txt (line 3)) (3.3)\n",
      "\u001b[33mDEPRECATION: distro-info 1.1build1 has a non-standard version number. pip 23.3 will enforce this behaviour change. A possible replacement is to upgrade to a newer version of distro-info or contact the author to suggest that they release a version with a conforming version number. Discussion can be found at https://github.com/pypa/pip/issues/12063\u001b[0m\u001b[33m\n",
      "\u001b[0m\u001b[33mWARNING: Running pip as the 'root' user can result in broken permissions and conflicting behaviour with the system package manager. It is recommended to use a virtual environment instead: https://pip.pypa.io/warnings/venv\u001b[0m\u001b[33m\n",
      "\u001b[0m"
     ]
    }
   ],
   "source": [
    "!python3.10 -m pip install --upgrade pip\n",
    "!python3.10 -m pip install -r ../requirements.txt"
   ]
  },
  {
   "cell_type": "code",
   "execution_count": 90,
   "id": "afca7b97",
   "metadata": {},
   "outputs": [
    {
     "name": "stdout",
     "output_type": "stream",
     "text": [
      "/usr/local/sbin:/usr/local/bin:/usr/sbin:/usr/bin:/sbin:/bin:/home/data/repo/hls_utils/test/..:/home/data/repo/hls_utils/test/..:/home/data/repo/hls_utils/test/..\n",
      "Usage: hls_batch.py scan [OPTIONS] JOB\n",
      "\n",
      "Options:\n",
      "  -f, --format [json|sqlite|pretty]\n",
      "  --filter [available|onoff|asis]\n",
      "                                  what should be printed\n",
      "  -O, --target TEXT               output target. filename or stdout[default]\n",
      "  -v, --verbose                   print verbose logs\n",
      "  -j, --jobs INTEGER              parallel jobs\n",
      "  --nofollow                      disable recursive playlist scan\n",
      "  --help                          Show this message and exit.\n"
     ]
    }
   ],
   "source": [
    "import os\n",
    "p = os.environ['PATH']\n",
    "here = os.getcwd() + \"/..\"\n",
    "os.environ['PATH'] = \"%s:%s\" % (p, here)\n",
    "print(os.environ['PATH'])"
   ]
  },
  {
   "cell_type": "code",
   "execution_count": 93,
   "id": "844eaf02",
   "metadata": {},
   "outputs": [
    {
     "name": "stdout",
     "output_type": "stream",
     "text": [
      "Usage: hls_batch.py [OPTIONS] COMMAND [ARGS]...\n",
      "\n",
      "Options:\n",
      "  --help  Show this message and exit.\n",
      "\n",
      "Commands:\n",
      "  download\n",
      "  scan\n",
      "-----------------------------------------\n",
      "Usage: hls_batch.py scan [OPTIONS] JOB\n",
      "\n",
      "Options:\n",
      "  -f, --format [json|sqlite|pretty]\n",
      "  --filter [available|onoff|asis]\n",
      "                                  what should be printed\n",
      "  -O, --target TEXT               output target. filename or stdout[default]\n",
      "  -v, --verbose                   print verbose logs\n",
      "  -j, --jobs INTEGER              parallel jobs\n",
      "  --nofollow                      disable recursive playlist scan\n",
      "  --help                          Show this message and exit.\n",
      "-----------------------------------------\n",
      "Usage: hls_batch.py download [OPTIONS]\n",
      "\n",
      "Options:\n",
      "  --help  Show this message and exit.\n"
     ]
    }
   ],
   "source": [
    "!python3.10 ../hls_batch.py  --help\n",
    "print(\"-----------------------------------------\")\n",
    "!python3.10 ../hls_batch.py scan --help\n",
    "print(\"-----------------------------------------\")\n",
    "!python3.10 ../hls_batch.py download --help"
   ]
  },
  {
   "cell_type": "code",
   "execution_count": 94,
   "id": "75a72713",
   "metadata": {},
   "outputs": [],
   "source": [
    "!rm -rf *.log *.db"
   ]
  },
  {
   "cell_type": "code",
   "execution_count": 88,
   "id": "2eba6fe0",
   "metadata": {},
   "outputs": [
    {
     "name": "stdout",
     "output_type": "stream",
     "text": [
      "Total:  47%|██████████████                | 23432/50092 [18:58<09:34, 46.37it/s]usage: hls [-h] [-o OUT] [-1] [-v] [--config CONFIG] [--flow] [--nofollow]\n",
      "           [--delay]\n",
      "           cmd url\n",
      "hls: error: unrecognized arguments: ,CCTV-1\n",
      "Total:  47%|██████████████▏               | 23591/50092 [19:04<16:53, 26.14it/s]# empty out for http://210.210.155.37/dr9445/h/h04/index.m3u8\n",
      "Total:  67%|████████████████████▏         | 33742/50092 [27:13<05:46, 47.20it/s]usage: hls [-h] [-o OUT] [-1] [-v] [--config CONFIG] [--flow] [--nofollow]\n",
      "           [--delay]\n",
      "           cmd url\n",
      "hls: error: unrecognized arguments: #EXTM3U name=bj-telecom-iptv x-tvg-url=http://epg.51zmt.top:8000/e.xml.gz\n",
      "Total:  68%|████████████████████▎         | 33893/50092 [27:20<10:57, 24.65it/s]# empty out for http://60.255.149.208/tslive/c213_scc_20190618_bhnjlzhp_original_r10/c213_scc_20190618_bhnjlzhp_original_r10.m3u8\n",
      "Total:  73%|█████████████████████▉        | 36579/50092 [28:58<09:46, 23.03it/s]usage: hls [-h] [-o OUT] [-1] [-v] [--config CONFIG] [--flow] [--nofollow]\n",
      "           [--delay]\n",
      "           cmd url\n",
      "hls: error: unrecognized arguments: #EXTM3U\n",
      "Total:  73%|██████████████████████        | 36753/50092 [29:15<56:21,  3.95it/s]# empty out for http://visit.jjbctv.com:1935/live/xwzhmb/playlist.m3u8\n",
      "Total: 100%|██████████████████████████████| 50092/50092 [40:32<00:00, 20.59it/s]\n",
      "Exception ignored in: <_io.TextIOWrapper name='<stdout>' mode='w' encoding='utf-8'>\n",
      "BrokenPipeError: [Errno 32] Broken pipe\n"
     ]
    }
   ],
   "source": [
    "!rm -rf *.log *.db\n",
    "!python3.10 ../hls_batch.py scan  --format pretty --target onoff.txt --filter onoff -j 128 --nofollow ../lists/index.txt"
   ]
  },
  {
   "cell_type": "code",
   "execution_count": 87,
   "id": "b3b197e9",
   "metadata": {},
   "outputs": [
    {
     "name": "stdout",
     "output_type": "stream",
     "text": [
      "{\"ok\": false, \"stat\": [{\"time\": \"2023-08-11T14:06:01.631038\", \"variant\": false, \"url\": \"aHR0cDovLzExMS4xMy4xMTEuMjQyL290dHR2LmJqLmNoaW5hbW9iaWxlLmNvbS9QTFRWLzg4ODg4ODg4LzIyNC8zMjIxMjI2MzIyLzEubTN1OA==\", \"bandwidth\": 0, \"invalid\": true, \"invalidReason\": \"target content type is None\", \"seq\": 0, \"duration\": 0, \"lastPlaylist\": \"\", \"loadDuaration\": 0.0}]}\r\n"
     ]
    }
   ],
   "source": [
    "!hls stat --single --nofollow --flow -v --delay \"http://111.13.111.242/otttv.bj.chinamobile.com/PLTV/88888888/224/3221226322/1.m3u8\""
   ]
  },
  {
   "cell_type": "code",
   "execution_count": null,
   "id": "9ad1a689",
   "metadata": {},
   "outputs": [],
   "source": []
  }
 ],
 "metadata": {
  "kernelspec": {
   "display_name": "Python 3 (ipykernel)",
   "language": "python",
   "name": "python3"
  },
  "language_info": {
   "codemirror_mode": {
    "name": "ipython",
    "version": 3
   },
   "file_extension": ".py",
   "mimetype": "text/x-python",
   "name": "python",
   "nbconvert_exporter": "python",
   "pygments_lexer": "ipython3",
   "version": "3.10.6"
  }
 },
 "nbformat": 4,
 "nbformat_minor": 5
}
